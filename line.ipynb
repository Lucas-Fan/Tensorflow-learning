{
 "cells": [
  {
   "cell_type": "code",
   "execution_count": 1,
   "metadata": {
    "collapsed": true
   },
   "outputs": [],
   "source": [
    "import tensorflow as tf\n",
    "import numpy as np"
   ]
  },
  {
   "cell_type": "code",
   "execution_count": 2,
   "metadata": {
    "collapsed": true
   },
   "outputs": [],
   "source": [
    "x_data=np.random.rand(100).astype(np.float32)\n",
    "y_data=x_data*0.1+0.3"
   ]
  },
  {
   "cell_type": "code",
   "execution_count": 4,
   "metadata": {},
   "outputs": [
    {
     "name": "stdout",
     "output_type": "stream",
     "text": [
      "WARNING:tensorflow:From /home/fzyt/anaconda2/lib/python2.7/site-packages/tensorflow/python/util/tf_should_use.py:175: initialize_all_variables (from tensorflow.python.ops.variables) is deprecated and will be removed after 2017-03-02.\n",
      "Instructions for updating:\n",
      "Use `tf.global_variables_initializer` instead.\n"
     ]
    }
   ],
   "source": [
    "W=tf.Variable(tf.random_uniform([1],-1.0,1.0))\n",
    "b=tf.Variable(tf.zeros([1]))\n",
    "\n",
    "y=W*x_data+b\n",
    "\n",
    "loss=tf.reduce_mean(tf.square(y-y_data ))\n",
    "optimizer=tf.train.GradientDescentOptimizer(0.5)\n",
    "train=optimizer.minimize(loss)\n",
    "\n",
    "init=tf.initialize_all_variables()"
   ]
  },
  {
   "cell_type": "code",
   "execution_count": 5,
   "metadata": {
    "collapsed": true
   },
   "outputs": [],
   "source": [
    "sess=tf.Session()\n",
    "sess.run(init)"
   ]
  },
  {
   "cell_type": "code",
   "execution_count": 6,
   "metadata": {},
   "outputs": [
    {
     "name": "stdout",
     "output_type": "stream",
     "text": [
      "(0, array([ 0.04404742], dtype=float32), array([ 0.45598888], dtype=float32))\n",
      "(20, array([ 0.07689736], dtype=float32), array([ 0.3124454], dtype=float32))\n",
      "(40, array([ 0.0950807], dtype=float32), array([ 0.30265003], dtype=float32))\n",
      "(60, array([ 0.09895254], dtype=float32), array([ 0.30056429], dtype=float32))\n",
      "(80, array([ 0.09977695], dtype=float32), array([ 0.30012017], dtype=float32))\n",
      "(100, array([ 0.0999525], dtype=float32), array([ 0.30002561], dtype=float32))\n",
      "(120, array([ 0.09998988], dtype=float32), array([ 0.30000547], dtype=float32))\n",
      "(140, array([ 0.09999786], dtype=float32), array([ 0.30000117], dtype=float32))\n",
      "(160, array([ 0.09999955], dtype=float32), array([ 0.30000025], dtype=float32))\n",
      "(180, array([ 0.0999999], dtype=float32), array([ 0.30000007], dtype=float32))\n",
      "(200, array([ 0.09999991], dtype=float32), array([ 0.30000007], dtype=float32))\n"
     ]
    }
   ],
   "source": [
    "for step in range(201):\n",
    "    sess.run(train)\n",
    "    if step % 20==0:\n",
    "        print(step,sess.run(W),sess.run(b))"
   ]
  },
  {
   "cell_type": "code",
   "execution_count": null,
   "metadata": {
    "collapsed": true
   },
   "outputs": [],
   "source": []
  }
 ],
 "metadata": {
  "kernelspec": {
   "display_name": "Python 2",
   "language": "python",
   "name": "python2"
  },
  "language_info": {
   "codemirror_mode": {
    "name": "ipython",
    "version": 2
   },
   "file_extension": ".py",
   "mimetype": "text/x-python",
   "name": "python",
   "nbconvert_exporter": "python",
   "pygments_lexer": "ipython2",
   "version": "2.7.13"
  }
 },
 "nbformat": 4,
 "nbformat_minor": 2
}
